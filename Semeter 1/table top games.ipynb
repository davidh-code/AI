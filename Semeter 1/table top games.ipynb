{
 "cells": [
  {
   "cell_type": "markdown",
   "id": "be3c3a85-475e-4217-b3fd-0456ad2a470c",
   "metadata": {},
   "source": [
    "# What is the probability that the first card drawn from the deck is a wild card of Uno? Assume no other cars have been dealt at the time.\n",
    "This is a observational experiment since we can't change the number of total cards we have and is at the beginning meaning that it need be population since all the cards are counted to make it more accurate. The deck has 108 cards, and 8 of them are wilds. A trial is just drawing one card, and we’re checking if it’s a wild. So the chance is 8 out of 108, which is about 7%."
   ]
  },
  {
   "cell_type": "code",
   "execution_count": 5,
   "id": "322269af-4aee-4ba6-bf3b-c8fc65ce3c86",
   "metadata": {},
   "outputs": [
    {
     "name": "stdout",
     "output_type": "stream",
     "text": [
      "Estimated probability after 100 trials: 0.10\n"
     ]
    },
    {
     "data": {
      "image/png": "[encoded data removed]",
      "text/plain": [
       "<Figure size 640x480 with 1 Axes>"
      ]
     },
     "metadata": {},
     "output_type": "display_data"
    }
   ],
   "source": [
    "import random\n",
    "import matplotlib.pyplot as plt\n",
    "\n",
    "# Parameters of the Uno deck\n",
    "total_cards = 108\n",
    "wild_cards = 8  # 4 Wild + 4 Wild Draw Four\n",
    "\n",
    "# Build deck: 1 means Wild, 0 means not Wild\n",
    "deck = [1] * wild_cards + [0] * (total_cards - wild_cards)\n",
    "\n",
    "# Run simulation\n",
    "trials = 100\n",
    "results = {\"Wild\": 0, \"Not Wild\": 0}\n",
    "\n",
    "for _ in range(trials):\n",
    "    card = random.choice(deck)\n",
    "    if card == 1:\n",
    "        results[\"Wild\"] += 1\n",
    "    else:\n",
    "        results[\"Not Wild\"] += 1\n",
    "\n",
    "# Calculate estimated probability\n",
    "probability = results[\"Wild\"] / trials\n",
    "print(f\"Estimated probability after {trials} trials: {probability:.2f}\")\n",
    "\n",
    "# Bar chart\n",
    "plt.bar(results.keys(), results.values(), color=[\"red\", \"blue\"], edgecolor=\"black\")\n",
    "plt.title(\"Simulation of Drawing a Wild Card (100 Trials)\")\n",
    "plt.xlabel(\"Card Type\")\n",
    "plt.ylabel(\"Count\")\n",
    "plt.show()"
   ]
  },
  {
   "cell_type": "code",
   "execution_count": 11,
   "id": "1f29ce11-d620-4490-a85a-b228c86cb4da",
   "metadata": {},
   "outputs": [
    {
     "name": "stdout",
     "output_type": "stream",
     "text": [
      "Estimated probability after 1000 trials: 0.0740\n"
     ]
    }
   ],
   "source": [
    "import random\n",
    "\n",
    "# Uno deck setup\n",
    "total_cards = 108\n",
    "wild_cards = 8\n",
    "\n",
    "# Simulation parameters\n",
    "trials = 1000\n",
    "wild_first_count = 0\n",
    "\n",
    "# Run simulation\n",
    "for _ in range(trials):\n",
    "    # Draw a card randomly (simulate first card)\n",
    "    drawn_card = random.randint(1, total_cards)\n",
    "    if drawn_card <= wild_cards:\n",
    "        wild_first_count += 1\n",
    "\n",
    "# Estimated probability\n",
    "estimated_probability = wild_first_count / trials\n",
    "\n",
    "print(f\"Estimated probability after {trials} trials: {estimated_probability:.4f}\")"
   ]
  },
  {
   "cell_type": "code",
   "execution_count": 9,
   "id": "d91d82ed-6ff0-49e0-93bc-de9a7714caa2",
   "metadata": {},
   "outputs": [
    {
     "name": "stdout",
     "output_type": "stream",
     "text": [
      "The theoretical probability of drawing a wild card first is 0.0741\n"
     ]
    }
   ],
   "source": [
    "total_cards = 108\n",
    "\n",
    "# Total wild cards (Wild + Wild Draw Four)\n",
    "wild_cards = 8\n",
    "\n",
    "# Theoretical probability of drawing a wild card first\n",
    "probability_wild_first = wild_cards / total_cards\n",
    "\n",
    "print(f\"The theoretical probability of drawing a wild card first is {probability_wild_first:.4f}\")"
   ]
  },
  {
   "cell_type": "markdown",
   "id": "b920b76f-fe14-47ae-97c3-158fe6298550",
   "metadata": {},
   "source": [
    "In Uno, there are 8 wild cards out of a total of 108 cards. This means that the theoretical probability of drawing a wild card is approximately 0.0741. Additionally, after conducting 100 trials, the probability of obtaining a wild card was 0.10, while after 1,000 trials, it was 0.0740. This shows a difference of 0.0259 between the results from the 100 trials and a mere 0.0001 percent difference from the 1,000 trials."
   ]
  },
  {
   "cell_type": "code",
   "execution_count": null,
   "id": "d69afa9e-df40-4300-8e31-eee28ce92abf",
   "metadata": {},
   "outputs": [],
   "source": []
  }
 ],
 "metadata": {
  "kernelspec": {
   "display_name": "anaconda-ai-2024.04-py310",
   "language": "python",
   "name": "conda-env-anaconda-ai-2024.04-py310-py"
  },
  "language_info": {
   "codemirror_mode": {
    "name": "ipython",
    "version": 3
   },
   "file_extension": ".py",
   "mimetype": "text/x-python",
   "name": "python",
   "nbconvert_exporter": "python",
   "pygments_lexer": "ipython3",
   "version": "3.10.13"
  }
 },
 "nbformat": 4,
 "nbformat_minor": 5
}
